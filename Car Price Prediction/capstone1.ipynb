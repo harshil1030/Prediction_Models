{
  "cells": [
    {
      "cell_type": "code",
      "execution_count": 7,
      "metadata": {},
      "outputs": [
        {
          "name": "stdout",
          "output_type": "stream",
          "text": [
            "Defaulting to user installation because normal site-packages is not writeable\n",
            "Requirement already satisfied: Jinja2 in c:\\users\\harshil\\appdata\\roaming\\python\\python310\\site-packages (3.1.2)\n",
            "Requirement already satisfied: MarkupSafe>=2.0 in c:\\users\\harshil\\appdata\\roaming\\python\\python310\\site-packages (from Jinja2) (2.1.1)\n",
            "Note: you may need to restart the kernel to use updated packages.\n"
          ]
        },
        {
          "name": "stderr",
          "output_type": "stream",
          "text": [
            "\n",
            "[notice] A new release of pip available: 22.2.1 -> 22.3.1\n",
            "[notice] To update, run: python.exe -m pip install --upgrade pip\n"
          ]
        }
      ],
      "source": [
        "pip install Jinja2"
      ]
    },
    {
      "cell_type": "code",
      "execution_count": 8,
      "metadata": {
        "id": "Oo94elDel6dm"
      },
      "outputs": [],
      "source": [
        "import numpy as np \n",
        "import pandas as pd \n",
        "\n",
        "import matplotlib.pyplot as plt\n",
        "import seaborn as sns\n",
        "\n",
        "from sklearn.preprocessing import StandardScaler\n",
        "from sklearn.model_selection import train_test_split, cross_val_score\n",
        "\n",
        "from sklearn.linear_model import LinearRegression\n",
        "from sklearn.tree import DecisionTreeRegressor\n",
        "from sklearn.ensemble import RandomForestRegressor\n",
        "\n",
        "from sklearn.metrics import mean_absolute_error"
      ]
    },
    {
      "cell_type": "code",
      "execution_count": 9,
      "metadata": {
        "colab": {
          "base_uri": "https://localhost:8080/"
        },
        "id": "p0tEwshlm0tt",
        "outputId": "f76ce2d3-72cd-46e2-f5b6-c360da556c82"
      },
      "outputs": [
        {
          "name": "stdout",
          "output_type": "stream",
          "text": [
            "number of rows - 19974\n",
            "number of columns - 13\n"
          ]
        }
      ],
      "source": [
        "data=pd.read_csv('D:\\Capstone Project-1\\Datasets\\cardekho_updated.csv')\n",
        "print(f'''number of rows - {data.shape[0]}\n",
        "number of columns - {data.shape[1]}''')"
      ]
    },
    {
      "cell_type": "code",
      "execution_count": 10,
      "metadata": {
        "colab": {
          "base_uri": "https://localhost:8080/",
          "height": 337
        },
        "id": "VQ72bLbXoKcg",
        "outputId": "b2094bf3-d46e-422f-f18b-9145fa0ad8fb"
      },
      "outputs": [
        {
          "data": {
            "text/html": [
              "<div>\n",
              "<style scoped>\n",
              "    .dataframe tbody tr th:only-of-type {\n",
              "        vertical-align: middle;\n",
              "    }\n",
              "\n",
              "    .dataframe tbody tr th {\n",
              "        vertical-align: top;\n",
              "    }\n",
              "\n",
              "    .dataframe thead th {\n",
              "        text-align: right;\n",
              "    }\n",
              "</style>\n",
              "<table border=\"1\" class=\"dataframe\">\n",
              "  <thead>\n",
              "    <tr style=\"text-align: right;\">\n",
              "      <th></th>\n",
              "      <th>full_name</th>\n",
              "      <th>selling_price</th>\n",
              "      <th>new_price</th>\n",
              "      <th>year</th>\n",
              "      <th>seller_type</th>\n",
              "      <th>km_driven</th>\n",
              "      <th>owner_type</th>\n",
              "      <th>fuel_type</th>\n",
              "      <th>transmission_type</th>\n",
              "      <th>mileage</th>\n",
              "      <th>engine</th>\n",
              "      <th>max_power</th>\n",
              "      <th>seats</th>\n",
              "    </tr>\n",
              "  </thead>\n",
              "  <tbody>\n",
              "    <tr>\n",
              "      <th>0</th>\n",
              "      <td>Maruti Alto Std</td>\n",
              "      <td>1.2 Lakh*</td>\n",
              "      <td>NaN</td>\n",
              "      <td>2012</td>\n",
              "      <td>Individual</td>\n",
              "      <td>1,20,000 kms</td>\n",
              "      <td>First Owner</td>\n",
              "      <td>Petrol</td>\n",
              "      <td>Manual</td>\n",
              "      <td>Mileage19.7 kmpl</td>\n",
              "      <td>Engine796 CC</td>\n",
              "      <td>Max Power46.3 bhp</td>\n",
              "      <td>Seats5</td>\n",
              "    </tr>\n",
              "    <tr>\n",
              "      <th>1</th>\n",
              "      <td>Hyundai Grand i10 Asta</td>\n",
              "      <td>5.5 Lakh*</td>\n",
              "      <td>New Car (On-Road Price) : Rs.7.11-7.48 Lakh*</td>\n",
              "      <td>2016</td>\n",
              "      <td>Individual</td>\n",
              "      <td>20,000 kms</td>\n",
              "      <td>First Owner</td>\n",
              "      <td>Petrol</td>\n",
              "      <td>Manual</td>\n",
              "      <td>Mileage18.9 kmpl</td>\n",
              "      <td>Engine1197 CC</td>\n",
              "      <td>Max Power82 bhp</td>\n",
              "      <td>Seats5</td>\n",
              "    </tr>\n",
              "    <tr>\n",
              "      <th>2</th>\n",
              "      <td>Hyundai i20 Asta</td>\n",
              "      <td>2.15 Lakh*</td>\n",
              "      <td>NaN</td>\n",
              "      <td>2010</td>\n",
              "      <td>Individual</td>\n",
              "      <td>60,000 kms</td>\n",
              "      <td>First Owner</td>\n",
              "      <td>Petrol</td>\n",
              "      <td>Manual</td>\n",
              "      <td>Mileage17.0 kmpl</td>\n",
              "      <td>Engine1197 CC</td>\n",
              "      <td>Max Power80 bhp</td>\n",
              "      <td>Seats5</td>\n",
              "    </tr>\n",
              "    <tr>\n",
              "      <th>3</th>\n",
              "      <td>Maruti Alto K10 2010-2014 VXI</td>\n",
              "      <td>2.26 Lakh*</td>\n",
              "      <td>NaN</td>\n",
              "      <td>2012</td>\n",
              "      <td>Individual</td>\n",
              "      <td>37,000 kms</td>\n",
              "      <td>First Owner</td>\n",
              "      <td>Petrol</td>\n",
              "      <td>Manual</td>\n",
              "      <td>Mileage20.92 kmpl</td>\n",
              "      <td>Engine998 CC</td>\n",
              "      <td>Max Power67.1 bhp</td>\n",
              "      <td>Seats5</td>\n",
              "    </tr>\n",
              "    <tr>\n",
              "      <th>4</th>\n",
              "      <td>Ford Ecosport 2015-2021 1.5 TDCi Titanium BSIV</td>\n",
              "      <td>5.7 Lakh*</td>\n",
              "      <td>New Car (On-Road Price) : Rs.10.14-13.79 Lakh*</td>\n",
              "      <td>2015</td>\n",
              "      <td>Dealer</td>\n",
              "      <td>30,000 kms</td>\n",
              "      <td>First Owner</td>\n",
              "      <td>Diesel</td>\n",
              "      <td>Manual</td>\n",
              "      <td>Mileage22.77 kmpl</td>\n",
              "      <td>Engine1498 CC</td>\n",
              "      <td>Max Power98.59 bhp</td>\n",
              "      <td>Seats5</td>\n",
              "    </tr>\n",
              "  </tbody>\n",
              "</table>\n",
              "</div>"
            ],
            "text/plain": [
              "                                        full_name selling_price  \\\n",
              "0                                 Maruti Alto Std     1.2 Lakh*   \n",
              "1                          Hyundai Grand i10 Asta     5.5 Lakh*   \n",
              "2                                Hyundai i20 Asta    2.15 Lakh*   \n",
              "3                   Maruti Alto K10 2010-2014 VXI    2.26 Lakh*   \n",
              "4  Ford Ecosport 2015-2021 1.5 TDCi Titanium BSIV     5.7 Lakh*   \n",
              "\n",
              "                                        new_price  year seller_type  \\\n",
              "0                                             NaN  2012  Individual   \n",
              "1    New Car (On-Road Price) : Rs.7.11-7.48 Lakh*  2016  Individual   \n",
              "2                                             NaN  2010  Individual   \n",
              "3                                             NaN  2012  Individual   \n",
              "4  New Car (On-Road Price) : Rs.10.14-13.79 Lakh*  2015      Dealer   \n",
              "\n",
              "      km_driven   owner_type fuel_type transmission_type            mileage  \\\n",
              "0  1,20,000 kms  First Owner    Petrol            Manual   Mileage19.7 kmpl   \n",
              "1    20,000 kms  First Owner    Petrol            Manual   Mileage18.9 kmpl   \n",
              "2    60,000 kms  First Owner    Petrol            Manual   Mileage17.0 kmpl   \n",
              "3    37,000 kms  First Owner    Petrol            Manual  Mileage20.92 kmpl   \n",
              "4    30,000 kms  First Owner    Diesel            Manual  Mileage22.77 kmpl   \n",
              "\n",
              "          engine           max_power   seats  \n",
              "0   Engine796 CC   Max Power46.3 bhp  Seats5  \n",
              "1  Engine1197 CC     Max Power82 bhp  Seats5  \n",
              "2  Engine1197 CC     Max Power80 bhp  Seats5  \n",
              "3   Engine998 CC   Max Power67.1 bhp  Seats5  \n",
              "4  Engine1498 CC  Max Power98.59 bhp  Seats5  "
            ]
          },
          "execution_count": 10,
          "metadata": {},
          "output_type": "execute_result"
        }
      ],
      "source": [
        "data.head()"
      ]
    },
    {
      "cell_type": "code",
      "execution_count": 11,
      "metadata": {
        "colab": {
          "base_uri": "https://localhost:8080/",
          "height": 457
        },
        "id": "n9NBDuxfoOjW",
        "outputId": "a01437b6-7989-43e8-db3c-555b0ea06364"
      },
      "outputs": [
        {
          "data": {
            "text/html": [
              "<style type=\"text/css\">\n",
              "#T_5d927_row0_col2, #T_5d927_row0_col3, #T_5d927_row1_col2, #T_5d927_row1_col3, #T_5d927_row3_col2, #T_5d927_row3_col3, #T_5d927_row4_col2, #T_5d927_row4_col3, #T_5d927_row5_col2, #T_5d927_row5_col3, #T_5d927_row6_col2, #T_5d927_row6_col3, #T_5d927_row7_col2, #T_5d927_row7_col3, #T_5d927_row8_col2, #T_5d927_row8_col3 {\n",
              "  background-color: #e5eff9;\n",
              "  color: #000000;\n",
              "}\n",
              "#T_5d927_row2_col2, #T_5d927_row2_col3 {\n",
              "  background-color: #08326e;\n",
              "  color: #f1f1f1;\n",
              "}\n",
              "#T_5d927_row9_col2, #T_5d927_row9_col3 {\n",
              "  background-color: #e3eef8;\n",
              "  color: #000000;\n",
              "}\n",
              "#T_5d927_row10_col2, #T_5d927_row10_col3 {\n",
              "  background-color: #e3eef9;\n",
              "  color: #000000;\n",
              "}\n",
              "#T_5d927_row11_col2, #T_5d927_row11_col3 {\n",
              "  background-color: #dfecf7;\n",
              "  color: #000000;\n",
              "}\n",
              "#T_5d927_row12_col2, #T_5d927_row12_col3 {\n",
              "  background-color: #e4eff9;\n",
              "  color: #000000;\n",
              "}\n",
              "</style>\n",
              "<table id=\"T_5d927\">\n",
              "  <thead>\n",
              "    <tr>\n",
              "      <th class=\"blank level0\" >&nbsp;</th>\n",
              "      <th id=\"T_5d927_level0_col0\" class=\"col_heading level0 col0\" >features</th>\n",
              "      <th id=\"T_5d927_level0_col1\" class=\"col_heading level0 col1\" >dtypes</th>\n",
              "      <th id=\"T_5d927_level0_col2\" class=\"col_heading level0 col2\" >NaN count</th>\n",
              "      <th id=\"T_5d927_level0_col3\" class=\"col_heading level0 col3\" >NaN percentage</th>\n",
              "    </tr>\n",
              "  </thead>\n",
              "  <tbody>\n",
              "    <tr>\n",
              "      <th id=\"T_5d927_level0_row0\" class=\"row_heading level0 row0\" >0</th>\n",
              "      <td id=\"T_5d927_row0_col0\" class=\"data row0 col0\" >full_name</td>\n",
              "      <td id=\"T_5d927_row0_col1\" class=\"data row0 col1\" >object</td>\n",
              "      <td id=\"T_5d927_row0_col2\" class=\"data row0 col2\" >0</td>\n",
              "      <td id=\"T_5d927_row0_col3\" class=\"data row0 col3\" >0.000000</td>\n",
              "    </tr>\n",
              "    <tr>\n",
              "      <th id=\"T_5d927_level0_row1\" class=\"row_heading level0 row1\" >1</th>\n",
              "      <td id=\"T_5d927_row1_col0\" class=\"data row1 col0\" >selling_price</td>\n",
              "      <td id=\"T_5d927_row1_col1\" class=\"data row1 col1\" >object</td>\n",
              "      <td id=\"T_5d927_row1_col2\" class=\"data row1 col2\" >0</td>\n",
              "      <td id=\"T_5d927_row1_col3\" class=\"data row1 col3\" >0.000000</td>\n",
              "    </tr>\n",
              "    <tr>\n",
              "      <th id=\"T_5d927_level0_row2\" class=\"row_heading level0 row2\" >2</th>\n",
              "      <td id=\"T_5d927_row2_col0\" class=\"data row2 col0\" >new_price</td>\n",
              "      <td id=\"T_5d927_row2_col1\" class=\"data row2 col1\" >object</td>\n",
              "      <td id=\"T_5d927_row2_col2\" class=\"data row2 col2\" >10410</td>\n",
              "      <td id=\"T_5d927_row2_col3\" class=\"data row2 col3\" >0.521178</td>\n",
              "    </tr>\n",
              "    <tr>\n",
              "      <th id=\"T_5d927_level0_row3\" class=\"row_heading level0 row3\" >3</th>\n",
              "      <td id=\"T_5d927_row3_col0\" class=\"data row3 col0\" >year</td>\n",
              "      <td id=\"T_5d927_row3_col1\" class=\"data row3 col1\" >int64</td>\n",
              "      <td id=\"T_5d927_row3_col2\" class=\"data row3 col2\" >0</td>\n",
              "      <td id=\"T_5d927_row3_col3\" class=\"data row3 col3\" >0.000000</td>\n",
              "    </tr>\n",
              "    <tr>\n",
              "      <th id=\"T_5d927_level0_row4\" class=\"row_heading level0 row4\" >4</th>\n",
              "      <td id=\"T_5d927_row4_col0\" class=\"data row4 col0\" >seller_type</td>\n",
              "      <td id=\"T_5d927_row4_col1\" class=\"data row4 col1\" >object</td>\n",
              "      <td id=\"T_5d927_row4_col2\" class=\"data row4 col2\" >0</td>\n",
              "      <td id=\"T_5d927_row4_col3\" class=\"data row4 col3\" >0.000000</td>\n",
              "    </tr>\n",
              "    <tr>\n",
              "      <th id=\"T_5d927_level0_row5\" class=\"row_heading level0 row5\" >5</th>\n",
              "      <td id=\"T_5d927_row5_col0\" class=\"data row5 col0\" >km_driven</td>\n",
              "      <td id=\"T_5d927_row5_col1\" class=\"data row5 col1\" >object</td>\n",
              "      <td id=\"T_5d927_row5_col2\" class=\"data row5 col2\" >0</td>\n",
              "      <td id=\"T_5d927_row5_col3\" class=\"data row5 col3\" >0.000000</td>\n",
              "    </tr>\n",
              "    <tr>\n",
              "      <th id=\"T_5d927_level0_row6\" class=\"row_heading level0 row6\" >6</th>\n",
              "      <td id=\"T_5d927_row6_col0\" class=\"data row6 col0\" >owner_type</td>\n",
              "      <td id=\"T_5d927_row6_col1\" class=\"data row6 col1\" >object</td>\n",
              "      <td id=\"T_5d927_row6_col2\" class=\"data row6 col2\" >0</td>\n",
              "      <td id=\"T_5d927_row6_col3\" class=\"data row6 col3\" >0.000000</td>\n",
              "    </tr>\n",
              "    <tr>\n",
              "      <th id=\"T_5d927_level0_row7\" class=\"row_heading level0 row7\" >7</th>\n",
              "      <td id=\"T_5d927_row7_col0\" class=\"data row7 col0\" >fuel_type</td>\n",
              "      <td id=\"T_5d927_row7_col1\" class=\"data row7 col1\" >object</td>\n",
              "      <td id=\"T_5d927_row7_col2\" class=\"data row7 col2\" >0</td>\n",
              "      <td id=\"T_5d927_row7_col3\" class=\"data row7 col3\" >0.000000</td>\n",
              "    </tr>\n",
              "    <tr>\n",
              "      <th id=\"T_5d927_level0_row8\" class=\"row_heading level0 row8\" >8</th>\n",
              "      <td id=\"T_5d927_row8_col0\" class=\"data row8 col0\" >transmission_type</td>\n",
              "      <td id=\"T_5d927_row8_col1\" class=\"data row8 col1\" >object</td>\n",
              "      <td id=\"T_5d927_row8_col2\" class=\"data row8 col2\" >0</td>\n",
              "      <td id=\"T_5d927_row8_col3\" class=\"data row8 col3\" >0.000000</td>\n",
              "    </tr>\n",
              "    <tr>\n",
              "      <th id=\"T_5d927_level0_row9\" class=\"row_heading level0 row9\" >9</th>\n",
              "      <td id=\"T_5d927_row9_col0\" class=\"data row9 col0\" >mileage</td>\n",
              "      <td id=\"T_5d927_row9_col1\" class=\"data row9 col1\" >object</td>\n",
              "      <td id=\"T_5d927_row9_col2\" class=\"data row9 col2\" >160</td>\n",
              "      <td id=\"T_5d927_row9_col3\" class=\"data row9 col3\" >0.008010</td>\n",
              "    </tr>\n",
              "    <tr>\n",
              "      <th id=\"T_5d927_level0_row10\" class=\"row_heading level0 row10\" >10</th>\n",
              "      <td id=\"T_5d927_row10_col0\" class=\"data row10 col0\" >engine</td>\n",
              "      <td id=\"T_5d927_row10_col1\" class=\"data row10 col1\" >object</td>\n",
              "      <td id=\"T_5d927_row10_col2\" class=\"data row10 col2\" >110</td>\n",
              "      <td id=\"T_5d927_row10_col3\" class=\"data row10 col3\" >0.005507</td>\n",
              "    </tr>\n",
              "    <tr>\n",
              "      <th id=\"T_5d927_level0_row11\" class=\"row_heading level0 row11\" >11</th>\n",
              "      <td id=\"T_5d927_row11_col0\" class=\"data row11 col0\" >max_power</td>\n",
              "      <td id=\"T_5d927_row11_col1\" class=\"data row11 col1\" >object</td>\n",
              "      <td id=\"T_5d927_row11_col2\" class=\"data row11 col2\" >337</td>\n",
              "      <td id=\"T_5d927_row11_col3\" class=\"data row11 col3\" >0.016872</td>\n",
              "    </tr>\n",
              "    <tr>\n",
              "      <th id=\"T_5d927_level0_row12\" class=\"row_heading level0 row12\" >12</th>\n",
              "      <td id=\"T_5d927_row12_col0\" class=\"data row12 col0\" >seats</td>\n",
              "      <td id=\"T_5d927_row12_col1\" class=\"data row12 col1\" >object</td>\n",
              "      <td id=\"T_5d927_row12_col2\" class=\"data row12 col2\" >87</td>\n",
              "      <td id=\"T_5d927_row12_col3\" class=\"data row12 col3\" >0.004356</td>\n",
              "    </tr>\n",
              "  </tbody>\n",
              "</table>\n"
            ],
            "text/plain": [
              "<pandas.io.formats.style.Styler at 0x27b4c8edab0>"
            ]
          },
          "execution_count": 11,
          "metadata": {},
          "output_type": "execute_result"
        }
      ],
      "source": [
        "def null_count():\n",
        "    return pd.DataFrame({'features': data.columns,\n",
        "                'dtypes': data.dtypes.values,\n",
        "                'NaN count': data.isnull().sum().values,\n",
        "                'NaN percentage': data.isnull().sum().values/data.shape[0]}).style.background_gradient(cmap='Blues',low=0.1,high=0.01)\n",
        "null_count()"
      ]
    },
    {
      "cell_type": "code",
      "execution_count": 12,
      "metadata": {
        "colab": {
          "base_uri": "https://localhost:8080/"
        },
        "id": "8EpappUyoQ6W",
        "outputId": "47d336b0-3196-4f0a-9f8c-00093045b20c"
      },
      "outputs": [
        {
          "name": "stderr",
          "output_type": "stream",
          "text": [
            "C:\\Users\\harshil\\AppData\\Local\\Temp\\ipykernel_13604\\1562082533.py:7: SettingWithCopyWarning: \n",
            "A value is trying to be set on a copy of a slice from a DataFrame\n",
            "\n",
            "See the caveats in the documentation: https://pandas.pydata.org/pandas-docs/stable/user_guide/indexing.html#returning-a-view-versus-a-copy\n",
            "  data['selling_price'][i] = price\n",
            "C:\\Users\\harshil\\AppData\\Local\\Temp\\ipykernel_13604\\1562082533.py:14: SettingWithCopyWarning: \n",
            "A value is trying to be set on a copy of a slice from a DataFrame\n",
            "\n",
            "See the caveats in the documentation: https://pandas.pydata.org/pandas-docs/stable/user_guide/indexing.html#returning-a-view-versus-a-copy\n",
            "  data['selling_price'][i] = float(price)\n",
            "C:\\Users\\harshil\\AppData\\Local\\Temp\\ipykernel_13604\\1562082533.py:10: SettingWithCopyWarning: \n",
            "A value is trying to be set on a copy of a slice from a DataFrame\n",
            "\n",
            "See the caveats in the documentation: https://pandas.pydata.org/pandas-docs/stable/user_guide/indexing.html#returning-a-view-versus-a-copy\n",
            "  data['selling_price'][i] = price\n"
          ]
        }
      ],
      "source": [
        "for i in range(data.shape[0]):\n",
        "    try:\n",
        "        price = float(data['selling_price'][i].split(' ')[0])\n",
        "        digit = data['selling_price'][i].split(' ')[1]\n",
        "        if digit == 'Lakh*':\n",
        "            price = price * 100000\n",
        "            data['selling_price'][i] = price\n",
        "        elif digit == 'Cr*':\n",
        "            price = price * 10000000\n",
        "            data['selling_price'][i] = price\n",
        "    except:\n",
        "        price = data['selling_price'][i][:-1]\n",
        "        price = price.replace(',', '')\n",
        "        data['selling_price'][i] = float(price)"
      ]
    },
    {
      "cell_type": "code",
      "execution_count": 13,
      "metadata": {
        "id": "f4AFqIvtoUwG"
      },
      "outputs": [],
      "source": [
        "\n",
        "data['km_driven'] = data['km_driven'].str.split(' ', n=1, expand=True)[0]\n",
        "data['km_driven'] = data['km_driven'].str.replace(',','')\n",
        "data['mileage'] = data['mileage'].str.split(' ', expand=True)[0].str.split('e', expand=True)[2]\n",
        "data['engine'] = data['engine'].str.split(' ', expand=True)[0].str.split('e',expand=True)[1]\n",
        "data['max_power'] = data['max_power'].str.split(' ', expand=True)[1].str.split('r',expand=True)[1]\n",
        "data['seats'] = data['seats'].str.split('s', expand=True)[1]"
      ]
    },
    {
      "cell_type": "code",
      "execution_count": 14,
      "metadata": {
        "id": "zLwEsnVyoolw"
      },
      "outputs": [],
      "source": [
        "cols = ['selling_price', 'km_driven', 'mileage', 'engine', 'max_power', 'seats']\n",
        "\n",
        "for col in cols:\n",
        "    try:\n",
        "        data[col] = data[col].astype(int)\n",
        "    except:\n",
        "        data[col] = data[col].astype(float)"
      ]
    },
    {
      "cell_type": "code",
      "execution_count": 15,
      "metadata": {
        "id": "pWsb5YXCopot"
      },
      "outputs": [],
      "source": [
        "data['company'] = data['full_name'].str.split(' ', expand=True)[0]"
      ]
    },
    {
      "cell_type": "code",
      "execution_count": 16,
      "metadata": {
        "colab": {
          "base_uri": "https://localhost:8080/",
          "height": 206
        },
        "id": "sYUmgCMAouHU",
        "outputId": "b5506472-41b4-425b-bdc6-5fdb2e6c17c0"
      },
      "outputs": [
        {
          "data": {
            "text/html": [
              "<div>\n",
              "<style scoped>\n",
              "    .dataframe tbody tr th:only-of-type {\n",
              "        vertical-align: middle;\n",
              "    }\n",
              "\n",
              "    .dataframe tbody tr th {\n",
              "        vertical-align: top;\n",
              "    }\n",
              "\n",
              "    .dataframe thead th {\n",
              "        text-align: right;\n",
              "    }\n",
              "</style>\n",
              "<table border=\"1\" class=\"dataframe\">\n",
              "  <thead>\n",
              "    <tr style=\"text-align: right;\">\n",
              "      <th></th>\n",
              "      <th>selling_price</th>\n",
              "      <th>year</th>\n",
              "      <th>seller_type</th>\n",
              "      <th>km_driven</th>\n",
              "      <th>fuel_type</th>\n",
              "      <th>transmission_type</th>\n",
              "      <th>mileage</th>\n",
              "      <th>engine</th>\n",
              "      <th>max_power</th>\n",
              "      <th>seats</th>\n",
              "      <th>company</th>\n",
              "    </tr>\n",
              "  </thead>\n",
              "  <tbody>\n",
              "    <tr>\n",
              "      <th>0</th>\n",
              "      <td>120000</td>\n",
              "      <td>2012</td>\n",
              "      <td>Individual</td>\n",
              "      <td>120000</td>\n",
              "      <td>Petrol</td>\n",
              "      <td>Manual</td>\n",
              "      <td>19.70</td>\n",
              "      <td>796.0</td>\n",
              "      <td>46.30</td>\n",
              "      <td>5.0</td>\n",
              "      <td>Maruti</td>\n",
              "    </tr>\n",
              "    <tr>\n",
              "      <th>1</th>\n",
              "      <td>550000</td>\n",
              "      <td>2016</td>\n",
              "      <td>Individual</td>\n",
              "      <td>20000</td>\n",
              "      <td>Petrol</td>\n",
              "      <td>Manual</td>\n",
              "      <td>18.90</td>\n",
              "      <td>1197.0</td>\n",
              "      <td>82.00</td>\n",
              "      <td>5.0</td>\n",
              "      <td>Hyundai</td>\n",
              "    </tr>\n",
              "    <tr>\n",
              "      <th>2</th>\n",
              "      <td>215000</td>\n",
              "      <td>2010</td>\n",
              "      <td>Individual</td>\n",
              "      <td>60000</td>\n",
              "      <td>Petrol</td>\n",
              "      <td>Manual</td>\n",
              "      <td>17.00</td>\n",
              "      <td>1197.0</td>\n",
              "      <td>80.00</td>\n",
              "      <td>5.0</td>\n",
              "      <td>Hyundai</td>\n",
              "    </tr>\n",
              "    <tr>\n",
              "      <th>3</th>\n",
              "      <td>225999</td>\n",
              "      <td>2012</td>\n",
              "      <td>Individual</td>\n",
              "      <td>37000</td>\n",
              "      <td>Petrol</td>\n",
              "      <td>Manual</td>\n",
              "      <td>20.92</td>\n",
              "      <td>998.0</td>\n",
              "      <td>67.10</td>\n",
              "      <td>5.0</td>\n",
              "      <td>Maruti</td>\n",
              "    </tr>\n",
              "    <tr>\n",
              "      <th>4</th>\n",
              "      <td>570000</td>\n",
              "      <td>2015</td>\n",
              "      <td>Dealer</td>\n",
              "      <td>30000</td>\n",
              "      <td>Diesel</td>\n",
              "      <td>Manual</td>\n",
              "      <td>22.77</td>\n",
              "      <td>1498.0</td>\n",
              "      <td>98.59</td>\n",
              "      <td>5.0</td>\n",
              "      <td>Ford</td>\n",
              "    </tr>\n",
              "  </tbody>\n",
              "</table>\n",
              "</div>"
            ],
            "text/plain": [
              "   selling_price  year seller_type  km_driven fuel_type transmission_type  \\\n",
              "0         120000  2012  Individual     120000    Petrol            Manual   \n",
              "1         550000  2016  Individual      20000    Petrol            Manual   \n",
              "2         215000  2010  Individual      60000    Petrol            Manual   \n",
              "3         225999  2012  Individual      37000    Petrol            Manual   \n",
              "4         570000  2015      Dealer      30000    Diesel            Manual   \n",
              "\n",
              "   mileage  engine  max_power  seats  company  \n",
              "0    19.70   796.0      46.30    5.0   Maruti  \n",
              "1    18.90  1197.0      82.00    5.0  Hyundai  \n",
              "2    17.00  1197.0      80.00    5.0  Hyundai  \n",
              "3    20.92   998.0      67.10    5.0   Maruti  \n",
              "4    22.77  1498.0      98.59    5.0     Ford  "
            ]
          },
          "execution_count": 16,
          "metadata": {},
          "output_type": "execute_result"
        }
      ],
      "source": [
        "data.drop(columns=['new_price','full_name','owner_type'], axis=1, inplace=True)\n",
        "data.head()"
      ]
    },
    {
      "cell_type": "code",
      "execution_count": 17,
      "metadata": {
        "colab": {
          "base_uri": "https://localhost:8080/",
          "height": 269
        },
        "id": "Lo0t9wa-owkE",
        "outputId": "82d146a7-5888-4d89-9661-a55b34df1e92"
      },
      "outputs": [
        {
          "data": {
            "text/html": [
              "<div>\n",
              "<style scoped>\n",
              "    .dataframe tbody tr th:only-of-type {\n",
              "        vertical-align: middle;\n",
              "    }\n",
              "\n",
              "    .dataframe tbody tr th {\n",
              "        vertical-align: top;\n",
              "    }\n",
              "\n",
              "    .dataframe thead th {\n",
              "        text-align: right;\n",
              "    }\n",
              "</style>\n",
              "<table border=\"1\" class=\"dataframe\">\n",
              "  <thead>\n",
              "    <tr style=\"text-align: right;\">\n",
              "      <th></th>\n",
              "      <th>count</th>\n",
              "      <th>mean</th>\n",
              "      <th>std</th>\n",
              "      <th>min</th>\n",
              "      <th>25%</th>\n",
              "      <th>50%</th>\n",
              "      <th>75%</th>\n",
              "      <th>max</th>\n",
              "    </tr>\n",
              "  </thead>\n",
              "  <tbody>\n",
              "    <tr>\n",
              "      <th>selling_price</th>\n",
              "      <td>19974.0</td>\n",
              "      <td>739294.432612</td>\n",
              "      <td>910400.116520</td>\n",
              "      <td>25000.0</td>\n",
              "      <td>340000.00</td>\n",
              "      <td>520000.0</td>\n",
              "      <td>785000.00</td>\n",
              "      <td>39500000.0</td>\n",
              "    </tr>\n",
              "    <tr>\n",
              "      <th>year</th>\n",
              "      <td>19974.0</td>\n",
              "      <td>2014.526134</td>\n",
              "      <td>3.248791</td>\n",
              "      <td>1991.0</td>\n",
              "      <td>2013.00</td>\n",
              "      <td>2015.0</td>\n",
              "      <td>2017.00</td>\n",
              "      <td>2021.0</td>\n",
              "    </tr>\n",
              "    <tr>\n",
              "      <th>km_driven</th>\n",
              "      <td>19974.0</td>\n",
              "      <td>58238.894663</td>\n",
              "      <td>51727.595500</td>\n",
              "      <td>100.0</td>\n",
              "      <td>31114.00</td>\n",
              "      <td>52000.0</td>\n",
              "      <td>74000.00</td>\n",
              "      <td>3800000.0</td>\n",
              "    </tr>\n",
              "    <tr>\n",
              "      <th>mileage</th>\n",
              "      <td>19814.0</td>\n",
              "      <td>19.503637</td>\n",
              "      <td>4.298090</td>\n",
              "      <td>4.0</td>\n",
              "      <td>16.95</td>\n",
              "      <td>19.3</td>\n",
              "      <td>22.32</td>\n",
              "      <td>120.0</td>\n",
              "    </tr>\n",
              "    <tr>\n",
              "      <th>engine</th>\n",
              "      <td>19864.0</td>\n",
              "      <td>1477.805981</td>\n",
              "      <td>519.843056</td>\n",
              "      <td>72.0</td>\n",
              "      <td>1197.00</td>\n",
              "      <td>1248.0</td>\n",
              "      <td>1582.00</td>\n",
              "      <td>6752.0</td>\n",
              "    </tr>\n",
              "    <tr>\n",
              "      <th>max_power</th>\n",
              "      <td>19637.0</td>\n",
              "      <td>99.448762</td>\n",
              "      <td>43.784904</td>\n",
              "      <td>25.4</td>\n",
              "      <td>73.94</td>\n",
              "      <td>86.8</td>\n",
              "      <td>114.00</td>\n",
              "      <td>626.0</td>\n",
              "    </tr>\n",
              "    <tr>\n",
              "      <th>seats</th>\n",
              "      <td>19887.0</td>\n",
              "      <td>5.319807</td>\n",
              "      <td>0.837676</td>\n",
              "      <td>2.0</td>\n",
              "      <td>5.00</td>\n",
              "      <td>5.0</td>\n",
              "      <td>5.00</td>\n",
              "      <td>14.0</td>\n",
              "    </tr>\n",
              "  </tbody>\n",
              "</table>\n",
              "</div>"
            ],
            "text/plain": [
              "                 count           mean            std      min        25%  \\\n",
              "selling_price  19974.0  739294.432612  910400.116520  25000.0  340000.00   \n",
              "year           19974.0    2014.526134       3.248791   1991.0    2013.00   \n",
              "km_driven      19974.0   58238.894663   51727.595500    100.0   31114.00   \n",
              "mileage        19814.0      19.503637       4.298090      4.0      16.95   \n",
              "engine         19864.0    1477.805981     519.843056     72.0    1197.00   \n",
              "max_power      19637.0      99.448762      43.784904     25.4      73.94   \n",
              "seats          19887.0       5.319807       0.837676      2.0       5.00   \n",
              "\n",
              "                    50%        75%         max  \n",
              "selling_price  520000.0  785000.00  39500000.0  \n",
              "year             2015.0    2017.00      2021.0  \n",
              "km_driven       52000.0   74000.00   3800000.0  \n",
              "mileage            19.3      22.32       120.0  \n",
              "engine           1248.0    1582.00      6752.0  \n",
              "max_power          86.8     114.00       626.0  \n",
              "seats               5.0       5.00        14.0  "
            ]
          },
          "execution_count": 17,
          "metadata": {},
          "output_type": "execute_result"
        }
      ],
      "source": [
        "data.describe().T"
      ]
    },
    {
      "cell_type": "code",
      "execution_count": 18,
      "metadata": {
        "colab": {
          "base_uri": "https://localhost:8080/",
          "height": 175
        },
        "id": "TNhjCClLo2Kc",
        "outputId": "02ba8382-77f7-4f55-8ddd-beb137fe6e6d"
      },
      "outputs": [
        {
          "data": {
            "text/html": [
              "<div>\n",
              "<style scoped>\n",
              "    .dataframe tbody tr th:only-of-type {\n",
              "        vertical-align: middle;\n",
              "    }\n",
              "\n",
              "    .dataframe tbody tr th {\n",
              "        vertical-align: top;\n",
              "    }\n",
              "\n",
              "    .dataframe thead th {\n",
              "        text-align: right;\n",
              "    }\n",
              "</style>\n",
              "<table border=\"1\" class=\"dataframe\">\n",
              "  <thead>\n",
              "    <tr style=\"text-align: right;\">\n",
              "      <th></th>\n",
              "      <th>seller_type</th>\n",
              "      <th>fuel_type</th>\n",
              "      <th>transmission_type</th>\n",
              "      <th>company</th>\n",
              "    </tr>\n",
              "  </thead>\n",
              "  <tbody>\n",
              "    <tr>\n",
              "      <th>count</th>\n",
              "      <td>19974</td>\n",
              "      <td>19974</td>\n",
              "      <td>19974</td>\n",
              "      <td>19974</td>\n",
              "    </tr>\n",
              "    <tr>\n",
              "      <th>unique</th>\n",
              "      <td>3</td>\n",
              "      <td>5</td>\n",
              "      <td>2</td>\n",
              "      <td>42</td>\n",
              "    </tr>\n",
              "    <tr>\n",
              "      <th>top</th>\n",
              "      <td>Dealer</td>\n",
              "      <td>Diesel</td>\n",
              "      <td>Manual</td>\n",
              "      <td>Maruti</td>\n",
              "    </tr>\n",
              "    <tr>\n",
              "      <th>freq</th>\n",
              "      <td>11970</td>\n",
              "      <td>9815</td>\n",
              "      <td>16025</td>\n",
              "      <td>5648</td>\n",
              "    </tr>\n",
              "  </tbody>\n",
              "</table>\n",
              "</div>"
            ],
            "text/plain": [
              "       seller_type fuel_type transmission_type company\n",
              "count        19974     19974             19974   19974\n",
              "unique           3         5                 2      42\n",
              "top         Dealer    Diesel            Manual  Maruti\n",
              "freq         11970      9815             16025    5648"
            ]
          },
          "execution_count": 18,
          "metadata": {},
          "output_type": "execute_result"
        }
      ],
      "source": [
        "data.describe(include='O')"
      ]
    },
    {
      "cell_type": "code",
      "execution_count": 19,
      "metadata": {
        "colab": {
          "base_uri": "https://localhost:8080/",
          "height": 533
        },
        "id": "-Y3pY1PXo5PL",
        "outputId": "6e51da3e-9a9f-43d4-d89c-4a5e69d43b02"
      },
      "outputs": [
        {
          "name": "stderr",
          "output_type": "stream",
          "text": [
            "C:\\Users\\harshil\\AppData\\Local\\Temp\\ipykernel_13604\\2398836656.py:2: FutureWarning: The default value of numeric_only in DataFrame.corr is deprecated. In a future version, it will default to False. Select only valid columns or specify the value of numeric_only to silence this warning.\n",
            "  ax = sns.heatmap(data.corr(),cmap='Blues', mask=np.triu(data.corr(), k=1), cbar=False, annot=True,annot_kws=dict(fontsize=4))\n"
          ]
        },
        {
          "data": {
            "image/png": "[encoded data removed]",
            "text/plain": [
              "<Figure size 1600x900 with 1 Axes>"
            ]
          },
          "metadata": {},
          "output_type": "display_data"
        }
      ],
      "source": [
        "fig = plt.figure(figsize=(16,9))\n",
        "ax = sns.heatmap(data.corr(),cmap='Blues', mask=np.triu(data.corr(), k=1), cbar=False, annot=True,annot_kws=dict(fontsize=4))\n",
        "ax.set_facecolor('white')\n",
        "ax.tick_params(labelsize=5)\n",
        "plt.show()"
      ]
    },
    {
      "cell_type": "code",
      "execution_count": 20,
      "metadata": {
        "colab": {
          "base_uri": "https://localhost:8080/",
          "height": 394
        },
        "id": "RuokAlrNpOSN",
        "outputId": "15e526a4-ca2b-49fe-b44f-e5b42a18b0c4"
      },
      "outputs": [
        {
          "data": {
            "text/html": [
              "<style type=\"text/css\">\n",
              "#T_65509_row0_col2, #T_65509_row0_col3, #T_65509_row1_col2, #T_65509_row1_col3, #T_65509_row2_col2, #T_65509_row2_col3, #T_65509_row3_col2, #T_65509_row3_col3, #T_65509_row4_col2, #T_65509_row4_col3, #T_65509_row5_col2, #T_65509_row5_col3, #T_65509_row10_col2, #T_65509_row10_col3 {\n",
              "  background-color: #e5eff9;\n",
              "  color: #000000;\n",
              "}\n",
              "#T_65509_row6_col2, #T_65509_row6_col3 {\n",
              "  background-color: #65aad4;\n",
              "  color: #f1f1f1;\n",
              "}\n",
              "#T_65509_row7_col2, #T_65509_row7_col3 {\n",
              "  background-color: #9ac8e0;\n",
              "  color: #000000;\n",
              "}\n",
              "#T_65509_row8_col2, #T_65509_row8_col3 {\n",
              "  background-color: #08326e;\n",
              "  color: #f1f1f1;\n",
              "}\n",
              "#T_65509_row9_col2, #T_65509_row9_col3 {\n",
              "  background-color: #afd1e7;\n",
              "  color: #000000;\n",
              "}\n",
              "</style>\n",
              "<table id=\"T_65509\">\n",
              "  <thead>\n",
              "    <tr>\n",
              "      <th class=\"blank level0\" >&nbsp;</th>\n",
              "      <th id=\"T_65509_level0_col0\" class=\"col_heading level0 col0\" >features</th>\n",
              "      <th id=\"T_65509_level0_col1\" class=\"col_heading level0 col1\" >dtypes</th>\n",
              "      <th id=\"T_65509_level0_col2\" class=\"col_heading level0 col2\" >NaN count</th>\n",
              "      <th id=\"T_65509_level0_col3\" class=\"col_heading level0 col3\" >NaN percentage</th>\n",
              "    </tr>\n",
              "  </thead>\n",
              "  <tbody>\n",
              "    <tr>\n",
              "      <th id=\"T_65509_level0_row0\" class=\"row_heading level0 row0\" >0</th>\n",
              "      <td id=\"T_65509_row0_col0\" class=\"data row0 col0\" >selling_price</td>\n",
              "      <td id=\"T_65509_row0_col1\" class=\"data row0 col1\" >int32</td>\n",
              "      <td id=\"T_65509_row0_col2\" class=\"data row0 col2\" >0</td>\n",
              "      <td id=\"T_65509_row0_col3\" class=\"data row0 col3\" >0.000000</td>\n",
              "    </tr>\n",
              "    <tr>\n",
              "      <th id=\"T_65509_level0_row1\" class=\"row_heading level0 row1\" >1</th>\n",
              "      <td id=\"T_65509_row1_col0\" class=\"data row1 col0\" >year</td>\n",
              "      <td id=\"T_65509_row1_col1\" class=\"data row1 col1\" >int64</td>\n",
              "      <td id=\"T_65509_row1_col2\" class=\"data row1 col2\" >0</td>\n",
              "      <td id=\"T_65509_row1_col3\" class=\"data row1 col3\" >0.000000</td>\n",
              "    </tr>\n",
              "    <tr>\n",
              "      <th id=\"T_65509_level0_row2\" class=\"row_heading level0 row2\" >2</th>\n",
              "      <td id=\"T_65509_row2_col0\" class=\"data row2 col0\" >seller_type</td>\n",
              "      <td id=\"T_65509_row2_col1\" class=\"data row2 col1\" >object</td>\n",
              "      <td id=\"T_65509_row2_col2\" class=\"data row2 col2\" >0</td>\n",
              "      <td id=\"T_65509_row2_col3\" class=\"data row2 col3\" >0.000000</td>\n",
              "    </tr>\n",
              "    <tr>\n",
              "      <th id=\"T_65509_level0_row3\" class=\"row_heading level0 row3\" >3</th>\n",
              "      <td id=\"T_65509_row3_col0\" class=\"data row3 col0\" >km_driven</td>\n",
              "      <td id=\"T_65509_row3_col1\" class=\"data row3 col1\" >int32</td>\n",
              "      <td id=\"T_65509_row3_col2\" class=\"data row3 col2\" >0</td>\n",
              "      <td id=\"T_65509_row3_col3\" class=\"data row3 col3\" >0.000000</td>\n",
              "    </tr>\n",
              "    <tr>\n",
              "      <th id=\"T_65509_level0_row4\" class=\"row_heading level0 row4\" >4</th>\n",
              "      <td id=\"T_65509_row4_col0\" class=\"data row4 col0\" >fuel_type</td>\n",
              "      <td id=\"T_65509_row4_col1\" class=\"data row4 col1\" >object</td>\n",
              "      <td id=\"T_65509_row4_col2\" class=\"data row4 col2\" >0</td>\n",
              "      <td id=\"T_65509_row4_col3\" class=\"data row4 col3\" >0.000000</td>\n",
              "    </tr>\n",
              "    <tr>\n",
              "      <th id=\"T_65509_level0_row5\" class=\"row_heading level0 row5\" >5</th>\n",
              "      <td id=\"T_65509_row5_col0\" class=\"data row5 col0\" >transmission_type</td>\n",
              "      <td id=\"T_65509_row5_col1\" class=\"data row5 col1\" >object</td>\n",
              "      <td id=\"T_65509_row5_col2\" class=\"data row5 col2\" >0</td>\n",
              "      <td id=\"T_65509_row5_col3\" class=\"data row5 col3\" >0.000000</td>\n",
              "    </tr>\n",
              "    <tr>\n",
              "      <th id=\"T_65509_level0_row6\" class=\"row_heading level0 row6\" >6</th>\n",
              "      <td id=\"T_65509_row6_col0\" class=\"data row6 col0\" >mileage</td>\n",
              "      <td id=\"T_65509_row6_col1\" class=\"data row6 col1\" >float64</td>\n",
              "      <td id=\"T_65509_row6_col2\" class=\"data row6 col2\" >160</td>\n",
              "      <td id=\"T_65509_row6_col3\" class=\"data row6 col3\" >0.008010</td>\n",
              "    </tr>\n",
              "    <tr>\n",
              "      <th id=\"T_65509_level0_row7\" class=\"row_heading level0 row7\" >7</th>\n",
              "      <td id=\"T_65509_row7_col0\" class=\"data row7 col0\" >engine</td>\n",
              "      <td id=\"T_65509_row7_col1\" class=\"data row7 col1\" >float64</td>\n",
              "      <td id=\"T_65509_row7_col2\" class=\"data row7 col2\" >110</td>\n",
              "      <td id=\"T_65509_row7_col3\" class=\"data row7 col3\" >0.005507</td>\n",
              "    </tr>\n",
              "    <tr>\n",
              "      <th id=\"T_65509_level0_row8\" class=\"row_heading level0 row8\" >8</th>\n",
              "      <td id=\"T_65509_row8_col0\" class=\"data row8 col0\" >max_power</td>\n",
              "      <td id=\"T_65509_row8_col1\" class=\"data row8 col1\" >float64</td>\n",
              "      <td id=\"T_65509_row8_col2\" class=\"data row8 col2\" >337</td>\n",
              "      <td id=\"T_65509_row8_col3\" class=\"data row8 col3\" >0.016872</td>\n",
              "    </tr>\n",
              "    <tr>\n",
              "      <th id=\"T_65509_level0_row9\" class=\"row_heading level0 row9\" >9</th>\n",
              "      <td id=\"T_65509_row9_col0\" class=\"data row9 col0\" >seats</td>\n",
              "      <td id=\"T_65509_row9_col1\" class=\"data row9 col1\" >float64</td>\n",
              "      <td id=\"T_65509_row9_col2\" class=\"data row9 col2\" >87</td>\n",
              "      <td id=\"T_65509_row9_col3\" class=\"data row9 col3\" >0.004356</td>\n",
              "    </tr>\n",
              "    <tr>\n",
              "      <th id=\"T_65509_level0_row10\" class=\"row_heading level0 row10\" >10</th>\n",
              "      <td id=\"T_65509_row10_col0\" class=\"data row10 col0\" >company</td>\n",
              "      <td id=\"T_65509_row10_col1\" class=\"data row10 col1\" >object</td>\n",
              "      <td id=\"T_65509_row10_col2\" class=\"data row10 col2\" >0</td>\n",
              "      <td id=\"T_65509_row10_col3\" class=\"data row10 col3\" >0.000000</td>\n",
              "    </tr>\n",
              "  </tbody>\n",
              "</table>\n"
            ],
            "text/plain": [
              "<pandas.io.formats.style.Styler at 0x27b4c8ee140>"
            ]
          },
          "execution_count": 20,
          "metadata": {},
          "output_type": "execute_result"
        }
      ],
      "source": [
        "null_count()"
      ]
    },
    {
      "cell_type": "code",
      "execution_count": 21,
      "metadata": {
        "id": "pJ0q-wkKpBni"
      },
      "outputs": [],
      "source": [
        "for i in ['mileage', 'engine', 'max_power', 'seats']:\n",
        "    company_name = data[data[i].isnull()]['company'].value_counts().index[0]\n",
        "    if data[i].nunique()>10:\n",
        "        values = data[data['company']==company_name][i].mean()\n",
        "    else:\n",
        "        values = data[data['company']==company_name][i].median()\n",
        "        \n",
        "    data[i].fillna(values, inplace=True)"
      ]
    },
    {
      "cell_type": "code",
      "execution_count": 22,
      "metadata": {
        "id": "0EhXZgOEpSHb"
      },
      "outputs": [],
      "source": [
        "data = data[data['selling_price'] < 20000000]\n",
        "data = data[data['km_driven'] < 1000000]\n",
        "data = data[data['mileage'] < 100]\n",
        "data = data[data['engine'] < 6100]\n",
        "data = data[data['max_power'] < 530]\n",
        "data = data.reset_index(drop=True)"
      ]
    },
    {
      "cell_type": "code",
      "execution_count": 23,
      "metadata": {
        "colab": {
          "base_uri": "https://localhost:8080/"
        },
        "id": "58vqR-rypU26",
        "outputId": "67c79665-c8d4-4d94-a3cb-78477d256b2a"
      },
      "outputs": [
        {
          "name": "stderr",
          "output_type": "stream",
          "text": [
            "C:\\Users\\harshil\\AppData\\Local\\Temp\\ipykernel_13604\\2644501224.py:6: SettingWithCopyWarning: \n",
            "A value is trying to be set on a copy of a slice from a DataFrame\n",
            "\n",
            "See the caveats in the documentation: https://pandas.pydata.org/pandas-docs/stable/user_guide/indexing.html#returning-a-view-versus-a-copy\n",
            "  data['company'][i] = 'others'\n"
          ]
        }
      ],
      "source": [
        "company_name = data.company.value_counts().index[:15]\n",
        "for i in range(data.shape[0]):\n",
        "    if data['company'][i] in company_name:\n",
        "         continue\n",
        "    else:\n",
        "        data['company'][i] = 'others'\n"
      ]
    },
    {
      "cell_type": "code",
      "execution_count": 24,
      "metadata": {
        "colab": {
          "base_uri": "https://localhost:8080/"
        },
        "id": "Tq5s5bvcpanJ",
        "outputId": "4f8f5949-3526-4c30-8803-3acd87b34c0e"
      },
      "outputs": [
        {
          "data": {
            "text/plain": [
              "(19959, 29)"
            ]
          },
          "execution_count": 24,
          "metadata": {},
          "output_type": "execute_result"
        }
      ],
      "source": [
        "data = pd.get_dummies(data=data, columns=['seller_type','fuel_type','transmission_type','company'], drop_first=True)\n",
        "data.shape"
      ]
    },
    {
      "cell_type": "code",
      "execution_count": 25,
      "metadata": {
        "colab": {
          "base_uri": "https://localhost:8080/",
          "height": 601
        },
        "id": "RX_3hkMPpdiJ",
        "outputId": "d2012a91-f917-4af6-a013-b47a88aef80c"
      },
      "outputs": [
        {
          "data": {
            "image/png": "[encoded data removed]",
            "text/plain": [
              "<Figure size 1600x900 with 1 Axes>"
            ]
          },
          "metadata": {},
          "output_type": "display_data"
        }
      ],
      "source": [
        "fig = plt.figure(figsize=(16,9))\n",
        "ax = sns.heatmap(data.corr(), cmap='Blues', mask=np.triu(data.corr(), k=1), cbar=False,\n",
        "                 annot_kws=dict(fontsize=4))\n",
        "ax.set_facecolor('white')\n",
        "ax.tick_params(labelsize=5)\n",
        "plt.show()"
      ]
    },
    {
      "cell_type": "code",
      "execution_count": 26,
      "metadata": {
        "id": "kQ-7GcjWpkH5"
      },
      "outputs": [],
      "source": [
        "x = data.iloc[:,1:]\n",
        "y = data['selling_price']\n",
        "xtrain, xtest, ytrain, ytest = train_test_split(x,y,test_size=0.20,random_state=25)"
      ]
    },
    {
      "cell_type": "code",
      "execution_count": 27,
      "metadata": {
        "id": "7aVJxKe0pp7R"
      },
      "outputs": [],
      "source": [
        "scaler = StandardScaler()\n",
        "xtrain = scaler.fit_transform(xtrain)\n",
        "xtest = scaler.transform(xtest)"
      ]
    },
    {
      "cell_type": "code",
      "execution_count": 28,
      "metadata": {
        "id": "oc_WH8E7psZQ"
      },
      "outputs": [],
      "source": [
        "def do_prediction(classifier):\n",
        "    \n",
        "    # training the classifier on the dataset\n",
        "    classifier.fit(xtrain, ytrain)\n",
        "    \n",
        "    #Do prediction and evaluting the prediction\n",
        "    prediction = classifier.predict(xtest)\n",
        "    cross_validation_score = cross_val(xtrain, ytrain, classifier)\n",
        "    error = mean_absolute_error(ytest, prediction)\n",
        "    \n",
        "    return error, cross_validation_score\n",
        "\n",
        "def cross_val(xtrain, ytrain, classifier):\n",
        "    \n",
        "    # Applying k-Fold Cross Validation\n",
        "    accuracies = cross_val_score(estimator = classifier, X = xtrain, y = ytrain, cv = 5)\n",
        "    return accuracies.mean()"
      ]
    },
    {
      "cell_type": "code",
      "execution_count": 29,
      "metadata": {
        "colab": {
          "base_uri": "https://localhost:8080/"
        },
        "id": "-bK7qka6pvZh",
        "outputId": "50729c28-56e7-46ef-d878-911bf47442a0"
      },
      "outputs": [
        {
          "name": "stdout",
          "output_type": "stream",
          "text": [
            "Linear Regression MAE: 235187.72\n",
            "Cross validation score: 0.71\n"
          ]
        }
      ],
      "source": [
        "model_1 = LinearRegression()\n",
        "error, score = do_prediction(model_1)\n",
        "\n",
        "print('Linear Regression MAE: {}'.format(round(error,2)))\n",
        "print('Cross validation score: {}'.format(round(score,2)))"
      ]
    },
    {
      "cell_type": "code",
      "execution_count": 30,
      "metadata": {
        "colab": {
          "base_uri": "https://localhost:8080/"
        },
        "id": "8aLxYol5pyoo",
        "outputId": "d6b157c6-d11b-47e9-e531-f38a805f953e"
      },
      "outputs": [
        {
          "name": "stdout",
          "output_type": "stream",
          "text": [
            "Random Forest Regressor MAE: 102564.12\n",
            "Cross validation score: 0.92\n"
          ]
        }
      ],
      "source": [
        "model_3 = RandomForestRegressor()\n",
        "error, score = do_prediction(model_3)\n",
        "\n",
        "print('Random Forest Regressor MAE: {}'.format(round(error,2)))\n",
        "print('Cross validation score: {}'.format(round(score,2)))"
      ]
    },
    {
      "cell_type": "code",
      "execution_count": 31,
      "metadata": {},
      "outputs": [],
      "source": [
        "import pickle\n",
        "file_name='my_file.pkl'\n",
        "f = open(file_name,'wb')\n",
        "pickle.dump(model_1,f)\n",
        "f.close()"
      ]
    }
  ],
  "metadata": {
    "colab": {
      "provenance": []
    },
    "kernelspec": {
      "display_name": "Python 3",
      "language": "python",
      "name": "python3"
    },
    "language_info": {
      "codemirror_mode": {
        "name": "ipython",
        "version": 3
      },
      "file_extension": ".py",
      "mimetype": "text/x-python",
      "name": "python",
      "nbconvert_exporter": "python",
      "pygments_lexer": "ipython3",
      "version": "3.11.2"
    },
    "vscode": {
      "interpreter": {
        "hash": "26de051ba29f2982a8de78e945f0abaf191376122a1563185a90213a26c5da77"
      }
    }
  },
  "nbformat": 4,
  "nbformat_minor": 0
}
